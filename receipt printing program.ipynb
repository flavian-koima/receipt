{
 "cells": [
  {
   "cell_type": "code",
   "execution_count": 2,
   "metadata": {},
   "outputs": [
    {
     "name": "stdout",
     "output_type": "stream",
     "text": [
      "**************************************************\n",
      "\t\tCoding Temple, Inc.\n",
      "\t\t 283 Franklin St.\n",
      "\t\tManchester city\n",
      "==================================================\n",
      "\t product name\tProduct Price\n",
      "\tBooks\t\t$49.95\n",
      "\tComputer\t\t$579.99\n",
      "\tMonitor\t\t$124.89\n",
      "==================================================\n",
      "\t\t\t$754.83\n",
      "==================================================\n",
      "\n",
      "\tThank you for shopping here!\n",
      "\n",
      "**************************************************\n"
     ]
    }
   ],
   "source": [
    "#create product and price\n",
    "p1_name, p1_price= \"Books\", 49.95\n",
    "p2_name, p2_price =\"Computer\", 579.99\n",
    "p3_name, p3_price= \"Monitor\", 124.89\n",
    "\n",
    "#create company name and info\n",
    "company_name = \"Coding Temple, Inc.\"\n",
    "company_address = \" 283 Franklin St.\"\n",
    "company_city = \"Manchester city\"\n",
    "\n",
    "#ending message\n",
    "message= \"Thank you for shopping here!\"\n",
    "\n",
    "#top border\n",
    "print(\"*\" * 50)\n",
    "\n",
    "#displaying info\n",
    "print(\"\\t\\t{}\".format(company_name))\n",
    "print(\"\\t\\t{}\".format(company_address))\n",
    "print(\"\\t\\t{}\".format(company_city))\n",
    "\n",
    "#border\n",
    "print(\"=\"* 50)\n",
    "\n",
    "#price\n",
    "print(\"\\t product name\\tProduct Price\")\n",
    "print(\"\\t{}\\t\\t${}\".format(p1_name, p1_price))\n",
    "print(\"\\t{}\\t\\t${}\".format(p2_name, p2_price))\n",
    "print(\"\\t{}\\t\\t${}\".format(p3_name, p3_price))\n",
    "\n",
    "#border\n",
    "print(\"=\"* 50)\n",
    "\n",
    "#total\n",
    "total= p1_price + p2_price + p3_price\n",
    "print(\"\\t\\t\\t${}\".format(total))\n",
    "\n",
    "print (\"=\"* 50)\n",
    "\n",
    "#message\n",
    "\n",
    "print(\"\\n\\t{}\\n\".format(message))\n",
    "\n",
    "print(\"*\"*50)\n",
    "\n",
    "\n",
    "                  \n"
   ]
  },
  {
   "cell_type": "code",
   "execution_count": null,
   "metadata": {},
   "outputs": [],
   "source": []
  }
 ],
 "metadata": {
  "kernelspec": {
   "display_name": "Python 3",
   "language": "python",
   "name": "python3"
  },
  "language_info": {
   "codemirror_mode": {
    "name": "ipython",
    "version": 3
   },
   "file_extension": ".py",
   "mimetype": "text/x-python",
   "name": "python",
   "nbconvert_exporter": "python",
   "pygments_lexer": "ipython3",
   "version": "3.8.3"
  }
 },
 "nbformat": 4,
 "nbformat_minor": 4
}
